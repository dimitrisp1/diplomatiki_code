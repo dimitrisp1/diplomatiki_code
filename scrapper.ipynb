{
 "cells": [
  {
   "cell_type": "code",
   "execution_count": 82,
   "metadata": {},
   "outputs": [],
   "source": [
    "import ssl\n",
    "import certifi\n",
    "from urllib.request import urlopen\n",
    "from bs4 import BeautifulSoup\n",
    "import csv\n",
    "import unicodedata\n",
    "import pandas as pd"
   ]
  },
  {
   "cell_type": "code",
   "execution_count": 83,
   "metadata": {},
   "outputs": [],
   "source": [
    "start_url = \"https://mailarchive.upatras.gr/search/20091231.220000.00000000@.en.html\""
   ]
  },
  {
   "cell_type": "code",
   "execution_count": 84,
   "metadata": {},
   "outputs": [],
   "source": [
    "fields=['Author','Date','To','Subject','Message']\n",
    "filename='testing.csv'\n",
    "with open(filename,'w',encoding='utf-32', newline='') as csvfile:\n",
    "    csvwriter=csv.writer(csvfile,delimiter='\\t')\n",
    "    csvwriter.writerow(fields)"
   ]
  },
  {
   "cell_type": "code",
   "execution_count": 85,
   "metadata": {},
   "outputs": [],
   "source": [
    "def scrapper(url):\n",
    "    page = urlopen(url, context=ssl.create_default_context(cafile=certifi.where()))\n",
    "    soup =  BeautifulSoup(page, \"html.parser\" )\n",
    "    links=soup.find_all('a')\n",
    "    urls=[]\n",
    "    for link in links[3:-3]:\n",
    "        a=link['href']\n",
    "        new_url=\"https://mailarchive.upatras.gr\"+a[2:None]\n",
    "        urls.append(new_url)\n",
    "    for urli in urls:\n",
    "        try:\n",
    "            new_page = urlopen(urli, context=ssl.create_default_context(cafile=certifi.where()))\n",
    "            new_soup =  BeautifulSoup(new_page, \"html.parser\" )\n",
    "            raw_text=new_soup.find('div',{\"class\": \"messageBody\"})\n",
    "            text=raw_text.get_text()\n",
    "            raw_info=new_soup.find('div',{\"class\": None})\n",
    "            info=raw_info.get_text()\n",
    "            norm_info = unicodedata.normalize('NFKD', info).encode('utf-32', 'ignore').decode('utf-32')\n",
    "            x=norm_info.split('Author:')\n",
    "            y=x[-1].split('Date:')\n",
    "            z=y[-1].split('To:')\n",
    "            w=z[-1].split('Subject:')\n",
    "            data=[y[0],z[0],w[0],w[-1],text]\n",
    "            with open('testing.csv','a',encoding='utf-32', newline='') as csvfile:\n",
    "                writer = csv.writer(csvfile,delimiter='\\t')\n",
    "                writer.writerow(data)\n",
    "        except:\n",
    "            continue\n",
    "    \n",
    "    \n",
    "    "
   ]
  },
  {
   "cell_type": "code",
   "execution_count": 86,
   "metadata": {},
   "outputs": [],
   "source": [
    "def find_next_url(url):\n",
    "    page = urlopen(url, context=ssl.create_default_context(cafile=certifi.where()))\n",
    "    soup =  BeautifulSoup(page, \"html.parser\" )\n",
    "    kl = soup.find_all('td', {'align': 'right'})\n",
    "    next_url=kl[1].find('a')['href']\n",
    "    next_url='https://mailarchive.upatras.gr/search/'+next_url\n",
    "    return next_url"
   ]
  },
  {
   "cell_type": "code",
   "execution_count": 87,
   "metadata": {},
   "outputs": [],
   "source": [
    "url=start_url\n",
    "for i in range(10):\n",
    "    scrapper(url)\n",
    "    url=find_next_url(url)\n",
    "    \n",
    "    "
   ]
  },
  {
   "cell_type": "code",
   "execution_count": 89,
   "metadata": {},
   "outputs": [],
   "source": [
    "df = pd.read_csv('testing.csv', encoding = 'utf-32',sep='\\t')"
   ]
  },
  {
   "cell_type": "code",
   "execution_count": 91,
   "metadata": {},
   "outputs": [
    {
     "data": {
      "text/html": [
       "<div>\n",
       "<style scoped>\n",
       "    .dataframe tbody tr th:only-of-type {\n",
       "        vertical-align: middle;\n",
       "    }\n",
       "\n",
       "    .dataframe tbody tr th {\n",
       "        vertical-align: top;\n",
       "    }\n",
       "\n",
       "    .dataframe thead th {\n",
       "        text-align: right;\n",
       "    }\n",
       "</style>\n",
       "<table border=\"1\" class=\"dataframe\">\n",
       "  <thead>\n",
       "    <tr style=\"text-align: right;\">\n",
       "      <th></th>\n",
       "      <th>Author</th>\n",
       "      <th>Date</th>\n",
       "      <th>To</th>\n",
       "      <th>Subject</th>\n",
       "      <th>Message</th>\n",
       "    </tr>\n",
       "  </thead>\n",
       "  <tbody>\n",
       "    <tr>\n",
       "      <th>0</th>\n",
       "      <td>Συνέλλη Αικατερίνη</td>\n",
       "      <td>2009-12-23 11:53 UTC</td>\n",
       "      <td>announces</td>\n",
       "      <td>[ANNOUNCES] Ευχές από ΒΚΠ</td>\n",
       "      <td>\\nΤο μήνυμα είναι έτοιμο για αποστολή με τα ακ...</td>\n",
       "    </tr>\n",
       "    <tr>\n",
       "      <th>1</th>\n",
       "      <td>John Matsoukas</td>\n",
       "      <td>2009-12-23 12:47 UTC</td>\n",
       "      <td>secretariat, dgiannak, dgrambio, secretary, Π...</td>\n",
       "      <td>[ANNOUNCES] Fw:  Ευχές</td>\n",
       "      <td>\\n\\n\\n\\n\\n\\n\\n\\nΤο Μεταπτυχιακό Πρόγραμμα Σπου...</td>\n",
       "    </tr>\n",
       "    <tr>\n",
       "      <th>2</th>\n",
       "      <td>Αντιπρύτανης Οικονομικού Προγραμματισμού κ...</td>\n",
       "      <td>2009-12-23 21:24 UTC</td>\n",
       "      <td>announcements</td>\n",
       "      <td>[ANNOUNCEMENTS] Ευχές</td>\n",
       "      <td>\\n\\nΗ Πρυτανική Αρχή του Πανεπιστημίου Πατρών ...</td>\n",
       "    </tr>\n",
       "    <tr>\n",
       "      <th>3</th>\n",
       "      <td>ΣΥΛΛΟΓΟΣ ΔΕΠ</td>\n",
       "      <td>2009-12-24 16:02 UTC</td>\n",
       "      <td>announcements</td>\n",
       "      <td>[ANNOUNCEMENTS] Ευχές</td>\n",
       "      <td>Εκ μέρους όλων των μελών του Δ.Σ. του συλλόγου...</td>\n",
       "    </tr>\n",
       "    <tr>\n",
       "      <th>4</th>\n",
       "      <td>Αντιπρύτανης Οικονομικού Προγραμματισμού κ...</td>\n",
       "      <td>2009-12-27 08:42 UTC</td>\n",
       "      <td>announcements</td>\n",
       "      <td>[ANNOUNCEMENTS] Ενημέρωση για την 62 Σύνοδο...</td>\n",
       "      <td>\\n\\nΕνημέρωση για την 62η Σύνοδο των Πρυτάνεων...</td>\n",
       "    </tr>\n",
       "  </tbody>\n",
       "</table>\n",
       "</div>"
      ],
      "text/plain": [
       "                                              Author                   Date  \\\n",
       "0                               Συνέλλη Αικατερίνη   2009-12-23 11:53 UTC   \n",
       "1                                     John Matsoukas   2009-12-23 12:47 UTC   \n",
       "2   Αντιπρύτανης Οικονομικού Προγραμματισμού κ...   2009-12-23 21:24 UTC   \n",
       "3                                       ΣΥΛΛΟΓΟΣ ΔΕΠ   2009-12-24 16:02 UTC   \n",
       "4   Αντιπρύτανης Οικονομικού Προγραμματισμού κ...   2009-12-27 08:42 UTC   \n",
       "\n",
       "                                                  To  \\\n",
       "0                                          announces   \n",
       "1   secretariat, dgiannak, dgrambio, secretary, Π...   \n",
       "2                                      announcements   \n",
       "3                                      announcements   \n",
       "4                                      announcements   \n",
       "\n",
       "                                             Subject  \\\n",
       "0                        [ANNOUNCES] Ευχές από ΒΚΠ   \n",
       "1                            [ANNOUNCES] Fw:  Ευχές   \n",
       "2                             [ANNOUNCEMENTS] Ευχές   \n",
       "3                             [ANNOUNCEMENTS] Ευχές   \n",
       "4   [ANNOUNCEMENTS] Ενημέρωση για την 62 Σύνοδο...   \n",
       "\n",
       "                                             Message  \n",
       "0  \\nΤο μήνυμα είναι έτοιμο για αποστολή με τα ακ...  \n",
       "1  \\n\\n\\n\\n\\n\\n\\n\\nΤο Μεταπτυχιακό Πρόγραμμα Σπου...  \n",
       "2  \\n\\nΗ Πρυτανική Αρχή του Πανεπιστημίου Πατρών ...  \n",
       "3  Εκ μέρους όλων των μελών του Δ.Σ. του συλλόγου...  \n",
       "4  \\n\\nΕνημέρωση για την 62η Σύνοδο των Πρυτάνεων...  "
      ]
     },
     "execution_count": 91,
     "metadata": {},
     "output_type": "execute_result"
    }
   ],
   "source": [
    "df.head()"
   ]
  },
  {
   "cell_type": "code",
   "execution_count": 93,
   "metadata": {},
   "outputs": [
    {
     "name": "stdout",
     "output_type": "stream",
     "text": [
      "\n",
      "Το μήνυμα είναι έτοιμο για αποστολή με τα ακόλουθα συνημμένα αρχεία ή\n",
      "συνδέσεις:\n",
      "\n",
      "LIS_Christmas_Greetings\n",
      "\n",
      "\n",
      "Σημείωση: Για προστασία κατά των ιών υπολογιστών, τα προγράμματα\n",
      "ηλεκτρονικού ταχυδρομείου μπορεί να εμποδίζουν την αποστολή ή λήψη ορισμένων\n",
      "τύπων συνημμένων αρχείων.  Ελέγξτε τις ρυθμίσεις ασφάλειας του ηλεκτρονικού\n",
      "σας ταχυδρομείου, για να εξακριβώσετε πώς γίνεται ο χειρισμός των\n",
      "συνημμένων.\n",
      "\n"
     ]
    }
   ],
   "source": [
    "print(df['Message'][0])"
   ]
  },
  {
   "cell_type": "code",
   "execution_count": null,
   "metadata": {},
   "outputs": [],
   "source": []
  }
 ],
 "metadata": {
  "kernelspec": {
   "display_name": "base",
   "language": "python",
   "name": "python3"
  },
  "language_info": {
   "codemirror_mode": {
    "name": "ipython",
    "version": 3
   },
   "file_extension": ".py",
   "mimetype": "text/x-python",
   "name": "python",
   "nbconvert_exporter": "python",
   "pygments_lexer": "ipython3",
   "version": "3.10.9"
  },
  "orig_nbformat": 4
 },
 "nbformat": 4,
 "nbformat_minor": 2
}
