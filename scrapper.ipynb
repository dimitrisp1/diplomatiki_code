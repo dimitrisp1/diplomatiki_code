{
 "cells": [
  {
   "cell_type": "code",
   "execution_count": 82,
   "metadata": {},
   "outputs": [],
   "source": [
    "import ssl\n",
    "import certifi\n",
    "from urllib.request import urlopen\n",
    "from bs4 import BeautifulSoup\n",
    "import csv\n",
    "import unicodedata\n",
    "import pandas as pd"
   ]
  },
  {
   "cell_type": "code",
   "execution_count": 83,
   "metadata": {},
   "outputs": [],
   "source": [
    "start_url = \"https://mailarchive.upatras.gr/search/20091231.220000.00000000@.en.html\""
   ]
  },
  {
   "cell_type": "code",
   "execution_count": 84,
   "metadata": {},
   "outputs": [],
   "source": [
    "fields=['Author','Date','To','Subject','Message']\n",
    "filename='testing.csv'\n",
    "with open(filename,'w',encoding='utf-32', newline='') as csvfile:\n",
    "    csvwriter=csv.writer(csvfile,delimiter='\\t')\n",
    "    csvwriter.writerow(fields)"
   ]
  },
  {
   "cell_type": "code",
   "execution_count": 85,
   "metadata": {},
   "outputs": [],
   "source": [
    "def scrapper(url):\n",
    "    page = urlopen(url, context=ssl.create_default_context(cafile=certifi.where()))\n",
    "    soup =  BeautifulSoup(page, \"html.parser\" )\n",
    "    links=soup.find_all('a')\n",
    "    urls=[]\n",
    "    for link in links[3:-3]:\n",
    "        a=link['href']\n",
    "        new_url=\"https://mailarchive.upatras.gr\"+a[2:None]\n",
    "        urls.append(new_url)\n",
    "    for urli in urls:\n",
    "        try:\n",
    "            new_page = urlopen(urli, context=ssl.create_default_context(cafile=certifi.where()))\n",
    "            new_soup =  BeautifulSoup(new_page, \"html.parser\" )\n",
    "            raw_text=new_soup.find('div',{\"class\": \"messageBody\"})\n",
    "            text=raw_text.get_text()\n",
    "            raw_info=new_soup.find('div',{\"class\": None})\n",
    "            info=raw_info.get_text()\n",
    "            norm_info = unicodedata.normalize('NFKD', info).encode('utf-32', 'ignore').decode('utf-32')\n",
    "            x=norm_info.split('Author:')\n",
    "            y=x[-1].split('Date:')\n",
    "            z=y[-1].split('To:')\n",
    "            w=z[-1].split('Subject:')\n",
    "            data=[y[0],z[0],w[0],w[-1],text]\n",
    "            with open('testing.csv','a',encoding='utf-32', newline='') as csvfile:\n",
    "                writer = csv.writer(csvfile,delimiter='\\t')\n",
    "                writer.writerow(data)\n",
    "        except:\n",
    "            continue\n",
    "    \n",
    "    \n",
    "    "
   ]
  },
  {
   "cell_type": "code",
   "execution_count": 86,
   "metadata": {},
   "outputs": [],
   "source": [
    "def find_next_url(url):\n",
    "    page = urlopen(url, context=ssl.create_default_context(cafile=certifi.where()))\n",
    "    soup =  BeautifulSoup(page, \"html.parser\" )\n",
    "    kl = soup.find_all('td', {'align': 'right'})\n",
    "    next_url=kl[1].find('a')['href']\n",
    "    next_url='https://mailarchive.upatras.gr/search/'+next_url\n",
    "    return next_url"
   ]
  },
  {
   "cell_type": "code",
   "execution_count": 87,
   "metadata": {},
   "outputs": [],
   "source": [
    "url=start_url\n",
    "for i in range(200):\n",
    "    scrapper(url)\n",
    "    url=find_next_url(url)\n",
    "    \n",
    "    "
   ]
  },
  {
   "cell_type": "code",
   "execution_count": 89,
   "metadata": {},
   "outputs": [],
   "source": [
    "df = pd.read_csv('testing.csv', encoding = 'utf-32',sep='\\t')"
   ]
  },
  {
   "cell_type": "code",
   "execution_count": null,
   "metadata": {},
   "outputs": [],
   "source": [
    "df.head()"
   ]
  },
  {
   "cell_type": "code",
   "execution_count": null,
   "metadata": {},
   "outputs": [],
   "source": [
    "print(df['Message'][0])"
   ]
  },
  {
   "cell_type": "code",
   "execution_count": null,
   "metadata": {},
   "outputs": [],
   "source": []
  }
 ],
 "metadata": {
  "kernelspec": {
   "display_name": "base",
   "language": "python",
   "name": "python3"
  },
  "language_info": {
   "codemirror_mode": {
    "name": "ipython",
    "version": 3
   },
   "file_extension": ".py",
   "mimetype": "text/x-python",
   "name": "python",
   "nbconvert_exporter": "python",
   "pygments_lexer": "ipython3",
   "version": "3.10.9"
  },
  "orig_nbformat": 4
 },
 "nbformat": 4,
 "nbformat_minor": 2
}
